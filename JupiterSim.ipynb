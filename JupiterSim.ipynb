{
 "cells": [
  {
   "cell_type": "markdown",
   "metadata": {},
   "source": [
    "Import all important libs"
   ]
  },
  {
   "cell_type": "code",
   "execution_count": 378,
   "metadata": {},
   "outputs": [],
   "source": [
    "import numpy as np\n",
    "import sympy as smp\n",
    "from sympy import Derivative\n",
    "from scipy.integrate import odeint\n",
    "import matplotlib.pyplot as plt\n",
    "from matplotlib import animation\n",
    "from mpl_toolkits.mplot3d import Axes3D\n",
    "from matplotlib.animation import PillowWriter"
   ]
  },
  {
   "cell_type": "markdown",
   "metadata": {},
   "source": [
    "Define all symbols using sympy. "
   ]
  },
  {
   "cell_type": "code",
   "execution_count": 379,
   "metadata": {},
   "outputs": [],
   "source": [
    "t, g = smp.symbols('t g')\n",
    "mc, m1, m2 = smp.symbols('mc m1 m2')\n",
    "L1, L2 = smp.symbols('L1 L2')\n",
    "M = mc + m1 + m2"
   ]
  },
  {
   "cell_type": "markdown",
   "metadata": {},
   "source": [
    "$x_c$ , $\\theta_1$ and $\\theta_2$ are functions of time and are the important motion variables."
   ]
  },
  {
   "cell_type": "code",
   "execution_count": 380,
   "metadata": {},
   "outputs": [],
   "source": [
    "xc, the1, the2 = smp.symbols(r'x_c \\theta_1, \\theta_2', cls=smp.Function)"
   ]
  },
  {
   "cell_type": "markdown",
   "metadata": {},
   "source": [
    "Explicitly write them as functions of time $t$:"
   ]
  },
  {
   "cell_type": "code",
   "execution_count": 381,
   "metadata": {},
   "outputs": [],
   "source": [
    "xc = xc(t)\n",
    "the1 = the1(t)\n",
    "the2 = the2(t)"
   ]
  },
  {
   "cell_type": "markdown",
   "metadata": {},
   "source": [
    "check functionality "
   ]
  },
  {
   "cell_type": "code",
   "execution_count": 382,
   "metadata": {},
   "outputs": [
    {
     "data": {
      "text/latex": [
       "$\\displaystyle x_{c}{\\left(t \\right)}$"
      ],
      "text/plain": [
       "x_c(t)"
      ]
     },
     "execution_count": 382,
     "metadata": {},
     "output_type": "execute_result"
    }
   ],
   "source": [
    "xc"
   ]
  },
  {
   "cell_type": "markdown",
   "metadata": {},
   "source": [
    "Define derivatives and second derivatives"
   ]
  },
  {
   "cell_type": "code",
   "execution_count": 383,
   "metadata": {},
   "outputs": [],
   "source": [
    "xc_d = smp.diff(xc, t)\n",
    "xc_dd = smp.diff(xc_d, t)\n",
    "the1_d = smp.diff(the1, t)\n",
    "the2_d = smp.diff(the2, t)\n",
    "the1_dd = smp.diff(the1_d, t)\n",
    "the2_dd = smp.diff(the2_d, t)"
   ]
  },
  {
   "cell_type": "markdown",
   "metadata": {},
   "source": [
    "Define $x_1$, $y_1$, $x_2$, and $y_2$ written in terms of the parameters above."
   ]
  },
  {
   "cell_type": "code",
   "execution_count": 384,
   "metadata": {},
   "outputs": [],
   "source": [
    "x1 = xc + L1*smp.sin(the1)\n",
    "y1 = -L1*smp.cos(the1)\n",
    "x2 =  x1 +L2*smp.sin(the2)\n",
    "y2 = y1 -L1*smp.cos(the1)-L2*smp.cos(the2)\n",
    "\n",
    "F = M * xc_dd"
   ]
  },
  {
   "cell_type": "markdown",
   "metadata": {},
   "source": [
    "Then use these to define kinetic and potential energy for each mass. Obtain the Lagrangian"
   ]
  },
  {
   "cell_type": "code",
   "execution_count": 385,
   "metadata": {},
   "outputs": [],
   "source": [
    "# Kinetic\n",
    "Tc = 1/2 * M * xc_d**2\n",
    "T1 = 1/2 * m1 * (smp.diff(x1, t)**2 + smp.diff(y1, t)**2)\n",
    "T2 = 1/2 * m2 * (smp.diff(x2, t)**2 + smp.diff(y2, t)**2)\n",
    "T = T1+T2\n",
    "# Potential\n",
    "V1 = m1*g*y1\n",
    "V2 = m2*g*y2\n",
    "V = V1 + V2\n",
    "# Lagrangian\n",
    "L = T-V"
   ]
  },
  {
   "cell_type": "code",
   "execution_count": 386,
   "metadata": {},
   "outputs": [
    {
     "data": {
      "text/latex": [
       "$\\displaystyle L_{1} g m_{1} \\cos{\\left(\\theta_{1}{\\left(t \\right)} \\right)} - g m_{2} \\left(- 2 L_{1} \\cos{\\left(\\theta_{1}{\\left(t \\right)} \\right)} - L_{2} \\cos{\\left(\\theta_{2}{\\left(t \\right)} \\right)}\\right) + 0.5 m_{1} \\left(L_{1}^{2} \\sin^{2}{\\left(\\theta_{1}{\\left(t \\right)} \\right)} \\left(\\frac{d}{d t} \\theta_{1}{\\left(t \\right)}\\right)^{2} + \\left(L_{1} \\cos{\\left(\\theta_{1}{\\left(t \\right)} \\right)} \\frac{d}{d t} \\theta_{1}{\\left(t \\right)} + \\frac{d}{d t} x_{c}{\\left(t \\right)}\\right)^{2}\\right) + 0.5 m_{2} \\left(\\left(2 L_{1} \\sin{\\left(\\theta_{1}{\\left(t \\right)} \\right)} \\frac{d}{d t} \\theta_{1}{\\left(t \\right)} + L_{2} \\sin{\\left(\\theta_{2}{\\left(t \\right)} \\right)} \\frac{d}{d t} \\theta_{2}{\\left(t \\right)}\\right)^{2} + \\left(L_{1} \\cos{\\left(\\theta_{1}{\\left(t \\right)} \\right)} \\frac{d}{d t} \\theta_{1}{\\left(t \\right)} + L_{2} \\cos{\\left(\\theta_{2}{\\left(t \\right)} \\right)} \\frac{d}{d t} \\theta_{2}{\\left(t \\right)} + \\frac{d}{d t} x_{c}{\\left(t \\right)}\\right)^{2}\\right)$"
      ],
      "text/plain": [
       "L1*g*m1*cos(\\theta_1(t)) - g*m2*(-2*L1*cos(\\theta_1(t)) - L2*cos(\\theta_2(t))) + 0.5*m1*(L1**2*sin(\\theta_1(t))**2*Derivative(\\theta_1(t), t)**2 + (L1*cos(\\theta_1(t))*Derivative(\\theta_1(t), t) + Derivative(x_c(t), t))**2) + 0.5*m2*((2*L1*sin(\\theta_1(t))*Derivative(\\theta_1(t), t) + L2*sin(\\theta_2(t))*Derivative(\\theta_2(t), t))**2 + (L1*cos(\\theta_1(t))*Derivative(\\theta_1(t), t) + L2*cos(\\theta_2(t))*Derivative(\\theta_2(t), t) + Derivative(x_c(t), t))**2)"
      ]
     },
     "execution_count": 386,
     "metadata": {},
     "output_type": "execute_result"
    }
   ],
   "source": [
    "L"
   ]
  },
  {
   "cell_type": "markdown",
   "metadata": {},
   "source": [
    "Get Lagrange's equations\n",
    "\n",
    "$$\\frac{\\partial L}{\\partial \\theta_1} - \\frac{d}{dt}\\frac{\\partial L}{\\partial \\dot{\\theta_1}} = 0$$\n",
    "$$\\frac{\\partial L}{\\partial \\theta_2} - \\frac{d}{dt}\\frac{\\partial L}{\\partial \\dot{\\theta_2}} = 0$$"
   ]
  },
  {
   "cell_type": "code",
   "execution_count": 387,
   "metadata": {},
   "outputs": [],
   "source": [
    "LEC = smp.diff(L, xc).simplify()   - smp.diff(smp.diff(L, xc_d), t).simplify() -F\n",
    "LE1 = smp.diff(L, the1).simplify() - smp.diff(smp.diff(L, the1_d), t).simplify()\n",
    "LE2 = smp.diff(L, the2).simplify() - smp.diff(smp.diff(L, the2_d), t).simplify()"
   ]
  },
  {
   "cell_type": "markdown",
   "metadata": {},
   "source": [
    "Solve Lagranges equations (this assumes that `LEC` ,`LE1` and `LE2` are all equal to zero)"
   ]
  },
  {
   "cell_type": "code",
   "execution_count": 388,
   "metadata": {},
   "outputs": [],
   "source": [
    "solc = smp.solve([LEC],(xc_dd), simplify=False, rational=False)"
   ]
  },
  {
   "cell_type": "code",
   "execution_count": 389,
   "metadata": {},
   "outputs": [
    {
     "data": {
      "text/latex": [
       "$\\displaystyle \\frac{L_{1} m_{1} \\sin{\\left(\\theta_{1}{\\left(t \\right)} \\right)} \\left(\\frac{d}{d t} \\theta_{1}{\\left(t \\right)}\\right)^{2}}{2 m_{1} + 2 m_{2} + mc} - \\frac{L_{1} m_{1} \\cos{\\left(\\theta_{1}{\\left(t \\right)} \\right)} \\frac{d^{2}}{d t^{2}} \\theta_{1}{\\left(t \\right)}}{2 m_{1} + 2 m_{2} + mc} + \\frac{L_{1} m_{2} \\sin{\\left(\\theta_{1}{\\left(t \\right)} \\right)} \\left(\\frac{d}{d t} \\theta_{1}{\\left(t \\right)}\\right)^{2}}{2 m_{1} + 2 m_{2} + mc} - \\frac{L_{1} m_{2} \\cos{\\left(\\theta_{1}{\\left(t \\right)} \\right)} \\frac{d^{2}}{d t^{2}} \\theta_{1}{\\left(t \\right)}}{2 m_{1} + 2 m_{2} + mc} + \\frac{L_{2} m_{2} \\sin{\\left(\\theta_{2}{\\left(t \\right)} \\right)} \\left(\\frac{d}{d t} \\theta_{2}{\\left(t \\right)}\\right)^{2}}{2 m_{1} + 2 m_{2} + mc} - \\frac{L_{2} m_{2} \\cos{\\left(\\theta_{2}{\\left(t \\right)} \\right)} \\frac{d^{2}}{d t^{2}} \\theta_{2}{\\left(t \\right)}}{2 m_{1} + 2 m_{2} + mc}$"
      ],
      "text/plain": [
       "L1*m1*sin(\\theta_1(t))*Derivative(\\theta_1(t), t)**2/(2*m1 + 2*m2 + mc) - L1*m1*cos(\\theta_1(t))*Derivative(\\theta_1(t), (t, 2))/(2*m1 + 2*m2 + mc) + L1*m2*sin(\\theta_1(t))*Derivative(\\theta_1(t), t)**2/(2*m1 + 2*m2 + mc) - L1*m2*cos(\\theta_1(t))*Derivative(\\theta_1(t), (t, 2))/(2*m1 + 2*m2 + mc) + L2*m2*sin(\\theta_2(t))*Derivative(\\theta_2(t), t)**2/(2*m1 + 2*m2 + mc) - L2*m2*cos(\\theta_2(t))*Derivative(\\theta_2(t), (t, 2))/(2*m1 + 2*m2 + mc)"
      ]
     },
     "execution_count": 389,
     "metadata": {},
     "output_type": "execute_result"
    }
   ],
   "source": [
    "solc[xc_dd]"
   ]
  },
  {
   "cell_type": "code",
   "execution_count": 390,
   "metadata": {},
   "outputs": [],
   "source": [
    "sol1 = smp.solve([LE1], (the1_dd), simplify=False, rational=False)"
   ]
  },
  {
   "cell_type": "code",
   "execution_count": 391,
   "metadata": {},
   "outputs": [],
   "source": [
    "sol2 = smp.solve([LE2], (the2_dd), simplify=False, rational=False)"
   ]
  },
  {
   "cell_type": "code",
   "execution_count": 392,
   "metadata": {},
   "outputs": [
    {
     "name": "stdout",
     "output_type": "stream",
     "text": [
      "the1_dd = \n"
     ]
    },
    {
     "data": {
      "text/latex": [
       "$\\displaystyle - \\frac{3 L_{1} m_{2} \\sin{\\left(2 \\theta_{1}{\\left(t \\right)} \\right)} \\left(\\frac{d}{d t} \\theta_{1}{\\left(t \\right)}\\right)^{2}}{2 L_{1} m_{1} - 3 L_{1} m_{2} \\cos{\\left(2 \\theta_{1}{\\left(t \\right)} \\right)} + 5 L_{1} m_{2}} - \\frac{3 L_{2} m_{2} \\sin{\\left(\\theta_{1}{\\left(t \\right)} - \\theta_{2}{\\left(t \\right)} \\right)} \\left(\\frac{d}{d t} \\theta_{2}{\\left(t \\right)}\\right)^{2}}{2 L_{1} m_{1} - 3 L_{1} m_{2} \\cos{\\left(2 \\theta_{1}{\\left(t \\right)} \\right)} + 5 L_{1} m_{2}} - \\frac{L_{2} m_{2} \\sin{\\left(\\theta_{1}{\\left(t \\right)} + \\theta_{2}{\\left(t \\right)} \\right)} \\left(\\frac{d}{d t} \\theta_{2}{\\left(t \\right)}\\right)^{2}}{2 L_{1} m_{1} - 3 L_{1} m_{2} \\cos{\\left(2 \\theta_{1}{\\left(t \\right)} \\right)} + 5 L_{1} m_{2}} - \\frac{3 L_{2} m_{2} \\cos{\\left(\\theta_{1}{\\left(t \\right)} - \\theta_{2}{\\left(t \\right)} \\right)} \\frac{d^{2}}{d t^{2}} \\theta_{2}{\\left(t \\right)}}{2 L_{1} m_{1} - 3 L_{1} m_{2} \\cos{\\left(2 \\theta_{1}{\\left(t \\right)} \\right)} + 5 L_{1} m_{2}} + \\frac{L_{2} m_{2} \\cos{\\left(\\theta_{1}{\\left(t \\right)} + \\theta_{2}{\\left(t \\right)} \\right)} \\frac{d^{2}}{d t^{2}} \\theta_{2}{\\left(t \\right)}}{2 L_{1} m_{1} - 3 L_{1} m_{2} \\cos{\\left(2 \\theta_{1}{\\left(t \\right)} \\right)} + 5 L_{1} m_{2}} - \\frac{2 g m_{1} \\sin{\\left(\\theta_{1}{\\left(t \\right)} \\right)}}{2 L_{1} m_{1} - 3 L_{1} m_{2} \\cos{\\left(2 \\theta_{1}{\\left(t \\right)} \\right)} + 5 L_{1} m_{2}} - \\frac{4 g m_{2} \\sin{\\left(\\theta_{1}{\\left(t \\right)} \\right)}}{2 L_{1} m_{1} - 3 L_{1} m_{2} \\cos{\\left(2 \\theta_{1}{\\left(t \\right)} \\right)} + 5 L_{1} m_{2}} - \\frac{2 m_{1} \\cos{\\left(\\theta_{1}{\\left(t \\right)} \\right)} \\frac{d^{2}}{d t^{2}} x_{c}{\\left(t \\right)}}{2 L_{1} m_{1} - 3 L_{1} m_{2} \\cos{\\left(2 \\theta_{1}{\\left(t \\right)} \\right)} + 5 L_{1} m_{2}} - \\frac{2 m_{2} \\cos{\\left(\\theta_{1}{\\left(t \\right)} \\right)} \\frac{d^{2}}{d t^{2}} x_{c}{\\left(t \\right)}}{2 L_{1} m_{1} - 3 L_{1} m_{2} \\cos{\\left(2 \\theta_{1}{\\left(t \\right)} \\right)} + 5 L_{1} m_{2}}$"
      ],
      "text/plain": [
       "-3*L1*m2*sin(2*\\theta_1(t))*Derivative(\\theta_1(t), t)**2/(2*L1*m1 - 3*L1*m2*cos(2*\\theta_1(t)) + 5*L1*m2) - 3*L2*m2*sin(\\theta_1(t) - \\theta_2(t))*Derivative(\\theta_2(t), t)**2/(2*L1*m1 - 3*L1*m2*cos(2*\\theta_1(t)) + 5*L1*m2) - L2*m2*sin(\\theta_1(t) + \\theta_2(t))*Derivative(\\theta_2(t), t)**2/(2*L1*m1 - 3*L1*m2*cos(2*\\theta_1(t)) + 5*L1*m2) - 3*L2*m2*cos(\\theta_1(t) - \\theta_2(t))*Derivative(\\theta_2(t), (t, 2))/(2*L1*m1 - 3*L1*m2*cos(2*\\theta_1(t)) + 5*L1*m2) + L2*m2*cos(\\theta_1(t) + \\theta_2(t))*Derivative(\\theta_2(t), (t, 2))/(2*L1*m1 - 3*L1*m2*cos(2*\\theta_1(t)) + 5*L1*m2) - 2*g*m1*sin(\\theta_1(t))/(2*L1*m1 - 3*L1*m2*cos(2*\\theta_1(t)) + 5*L1*m2) - 4*g*m2*sin(\\theta_1(t))/(2*L1*m1 - 3*L1*m2*cos(2*\\theta_1(t)) + 5*L1*m2) - 2*m1*cos(\\theta_1(t))*Derivative(x_c(t), (t, 2))/(2*L1*m1 - 3*L1*m2*cos(2*\\theta_1(t)) + 5*L1*m2) - 2*m2*cos(\\theta_1(t))*Derivative(x_c(t), (t, 2))/(2*L1*m1 - 3*L1*m2*cos(2*\\theta_1(t)) + 5*L1*m2)"
      ]
     },
     "execution_count": 392,
     "metadata": {},
     "output_type": "execute_result"
    }
   ],
   "source": [
    "print(\"the1_dd = \")\n",
    "sol1[the1_dd]"
   ]
  },
  {
   "cell_type": "code",
   "execution_count": 393,
   "metadata": {},
   "outputs": [
    {
     "name": "stdout",
     "output_type": "stream",
     "text": [
      "the2_dd = \n"
     ]
    },
    {
     "data": {
      "text/latex": [
       "$\\displaystyle - \\frac{2.0 L_{1} \\sin{\\left(\\theta_{1}{\\left(t \\right)} \\right)} \\sin{\\left(\\theta_{2}{\\left(t \\right)} \\right)} \\frac{d^{2}}{d t^{2}} \\theta_{1}{\\left(t \\right)}}{L_{2}} + \\frac{1.0 L_{1} \\sin{\\left(\\theta_{1}{\\left(t \\right)} \\right)} \\cos{\\left(\\theta_{2}{\\left(t \\right)} \\right)} \\left(\\frac{d}{d t} \\theta_{1}{\\left(t \\right)}\\right)^{2}}{L_{2}} - \\frac{2.0 L_{1} \\sin{\\left(\\theta_{2}{\\left(t \\right)} \\right)} \\cos{\\left(\\theta_{1}{\\left(t \\right)} \\right)} \\left(\\frac{d}{d t} \\theta_{1}{\\left(t \\right)}\\right)^{2}}{L_{2}} - \\frac{1.0 L_{1} \\cos{\\left(\\theta_{1}{\\left(t \\right)} \\right)} \\cos{\\left(\\theta_{2}{\\left(t \\right)} \\right)} \\frac{d^{2}}{d t^{2}} \\theta_{1}{\\left(t \\right)}}{L_{2}} - \\frac{1.0 g \\sin{\\left(\\theta_{2}{\\left(t \\right)} \\right)}}{L_{2}} - \\frac{1.0 \\cos{\\left(\\theta_{2}{\\left(t \\right)} \\right)} \\frac{d^{2}}{d t^{2}} x_{c}{\\left(t \\right)}}{L_{2}}$"
      ],
      "text/plain": [
       "-2.0*L1*sin(\\theta_1(t))*sin(\\theta_2(t))*Derivative(\\theta_1(t), (t, 2))/L2 + 1.0*L1*sin(\\theta_1(t))*cos(\\theta_2(t))*Derivative(\\theta_1(t), t)**2/L2 - 2.0*L1*sin(\\theta_2(t))*cos(\\theta_1(t))*Derivative(\\theta_1(t), t)**2/L2 - 1.0*L1*cos(\\theta_1(t))*cos(\\theta_2(t))*Derivative(\\theta_1(t), (t, 2))/L2 - 1.0*g*sin(\\theta_2(t))/L2 - 1.0*cos(\\theta_2(t))*Derivative(x_c(t), (t, 2))/L2"
      ]
     },
     "execution_count": 393,
     "metadata": {},
     "output_type": "execute_result"
    }
   ],
   "source": [
    "print(\"the2_dd = \")\n",
    "sol2[the2_dd]"
   ]
  },
  {
   "cell_type": "markdown",
   "metadata": {},
   "source": [
    "Now we have \n",
    "\n",
    "* $\\frac{d^2 \\theta_1}{dt^2} = ...$\n",
    "* $\\frac{d^2 \\theta_2}{dt^2} = ...$\n",
    "\n",
    "These are two second order ODEs! In python we can only solve systems of first order ODEs. Any system of second order ODEs can be converted as follows:\n",
    "\n",
    "1. Define $z_1 = d\\theta_1/dt$ and $z_2=d\\theta_2/dt$\n",
    "2. Then $dz_1/dt = d^2\\theta_1/dt^2$ and $dz_2/dt = d^2\\theta_2/dt^2$\n",
    "\n",
    "Now we get a system of 4 first order ODEs (as opposed to 2 second order ones)\n",
    "\n",
    "* $d z_1/dt = ...$\n",
    "* $d\\theta_1/dt = z_1$\n",
    "* $d z_2/dt = ...$\n",
    "* $d\\theta_2/dt = z_1$\n",
    "\n",
    "We need to convert the **symbolic** expressions above to numerical functions so we can use them in a numerical python solver. For this we use `smp.lambdify`"
   ]
  },
  {
   "cell_type": "code",
   "execution_count": 394,
   "metadata": {},
   "outputs": [],
   "source": [
    "dzcdt_f = smp.lambdify((t, g, mc, m1, m2, L1, L2, xc, the1, the2, xc_d, the1_d, the2_d), solc[xc_dd])\n",
    "dz1dt_f = smp.lambdify((t, g, mc, m1, m2, L1, L2, xc, the1, the2, xc_d, the1_d, the2_d), sol1[the1_dd])\n",
    "dz2dt_f = smp.lambdify((t, g, mc, m1, m2, L1, L2, xc, the1, the2, xc_d, the1_d, the2_d), sol2[the2_dd])\n",
    "dxcdt_f = smp.lambdify(xc_d, xc_d)\n",
    "dthe1dt_f = smp.lambdify(the1_d, the1_d)\n",
    "dthe2dt_f = smp.lambdify(the2_d, the2_d)"
   ]
  },
  {
   "cell_type": "markdown",
   "metadata": {},
   "source": [
    "Now define $\\vec{S} = (x_c, z_c, \\theta_1, z_1, \\theta_2, z_2)$. IF we're going to use an ODE solver in python, we need to write a function that takes in $\\vec{S}$ and $t$ and returns $d\\vec{S}/dt$. In other words, we need to define $d\\vec{S}/dt (\\vec{S}, t)$\n",
    "\n",
    "* Our system of ODEs can be fully specified using $d\\vec{S}/dt$ and depends only on $\\vec{S}$ and $t$"
   ]
  },
  {
   "cell_type": "code",
   "execution_count": 395,
   "metadata": {},
   "outputs": [],
   "source": [
    "def dSdt(S, t, g, mc, m1, m2, L1, L2):\n",
    "     the1, z1, the2, z2, xc, zc = S \n",
    "     return[\n",
    "         dxcdt_f(zc),\n",
    "         dzcdt_f(t,  g, mc, m1, m2, L1, L2, xc, the1, the2, zc, z1, z2),\n",
    "         dthe1dt_f(z1),\n",
    "         dz1dt_f(t,  g, mc, m1, m2, L1, L2, xc, the1, the2, zc, z1, z2),\n",
    "         dthe2dt_f(z2),\n",
    "         dz2dt_f(t,  g, mc, m1, m2, L1, L2, xc, the1, the2, zc, z1, z2),\n",
    "     ]"
   ]
  },
  {
   "cell_type": "markdown",
   "metadata": {},
   "source": [
    "Solve the system of ODEs using scipys `odeint` method"
   ]
  },
  {
   "cell_type": "code",
   "execution_count": 396,
   "metadata": {},
   "outputs": [
    {
     "ename": "NameError",
     "evalue": "name 'Derivative' is not defined",
     "output_type": "error",
     "traceback": [
      "\u001b[1;31m---------------------------------------------------------------------------\u001b[0m",
      "\u001b[1;31mNameError\u001b[0m                                 Traceback (most recent call last)",
      "\u001b[1;32mc:\\Users\\Owis.Alsabbagh\\Desktop\\wichtig\\Inverses doppelpendel\\OwnCode\\JupiterSim.ipynb Cell 32\u001b[0m line \u001b[0;36m8\n\u001b[0;32m      <a href='vscode-notebook-cell:/c%3A/Users/Owis.Alsabbagh/Desktop/wichtig/Inverses%20doppelpendel/OwnCode/JupiterSim.ipynb#Y123sZmlsZQ%3D%3D?line=5'>6</a>\u001b[0m L1 \u001b[39m=\u001b[39m \u001b[39m2\u001b[39m\n\u001b[0;32m      <a href='vscode-notebook-cell:/c%3A/Users/Owis.Alsabbagh/Desktop/wichtig/Inverses%20doppelpendel/OwnCode/JupiterSim.ipynb#Y123sZmlsZQ%3D%3D?line=6'>7</a>\u001b[0m L2 \u001b[39m=\u001b[39m \u001b[39m1\u001b[39m\n\u001b[1;32m----> <a href='vscode-notebook-cell:/c%3A/Users/Owis.Alsabbagh/Desktop/wichtig/Inverses%20doppelpendel/OwnCode/JupiterSim.ipynb#Y123sZmlsZQ%3D%3D?line=7'>8</a>\u001b[0m ans \u001b[39m=\u001b[39m odeint(dSdt, y0\u001b[39m=\u001b[39;49m[\u001b[39m1\u001b[39;49m, \u001b[39m-\u001b[39;49m\u001b[39m3\u001b[39;49m, \u001b[39m1\u001b[39;49m,\u001b[39m5\u001b[39;49m, \u001b[39m0.225\u001b[39;49m, \u001b[39m1\u001b[39;49m], t\u001b[39m=\u001b[39;49mt, args\u001b[39m=\u001b[39;49m(g, mc, m1, m2, L1, L2))\n",
      "File \u001b[1;32m~\\AppData\\Local\\Packages\\PythonSoftwareFoundation.Python.3.11_qbz5n2kfra8p0\\LocalCache\\local-packages\\Python311\\site-packages\\scipy\\integrate\\_odepack_py.py:242\u001b[0m, in \u001b[0;36modeint\u001b[1;34m(func, y0, t, args, Dfun, col_deriv, full_output, ml, mu, rtol, atol, tcrit, h0, hmax, hmin, ixpr, mxstep, mxhnil, mxordn, mxords, printmessg, tfirst)\u001b[0m\n\u001b[0;32m    240\u001b[0m t \u001b[39m=\u001b[39m copy(t)\n\u001b[0;32m    241\u001b[0m y0 \u001b[39m=\u001b[39m copy(y0)\n\u001b[1;32m--> 242\u001b[0m output \u001b[39m=\u001b[39m _odepack\u001b[39m.\u001b[39;49modeint(func, y0, t, args, Dfun, col_deriv, ml, mu,\n\u001b[0;32m    243\u001b[0m                          full_output, rtol, atol, tcrit, h0, hmax, hmin,\n\u001b[0;32m    244\u001b[0m                          ixpr, mxstep, mxhnil, mxordn, mxords,\n\u001b[0;32m    245\u001b[0m                          \u001b[39mint\u001b[39;49m(\u001b[39mbool\u001b[39;49m(tfirst)))\n\u001b[0;32m    246\u001b[0m \u001b[39mif\u001b[39;00m output[\u001b[39m-\u001b[39m\u001b[39m1\u001b[39m] \u001b[39m<\u001b[39m \u001b[39m0\u001b[39m:\n\u001b[0;32m    247\u001b[0m     warning_msg \u001b[39m=\u001b[39m _msgs[output[\u001b[39m-\u001b[39m\u001b[39m1\u001b[39m]] \u001b[39m+\u001b[39m \u001b[39m\"\u001b[39m\u001b[39m Run with full_output = 1 to get quantitative information.\u001b[39m\u001b[39m\"\u001b[39m\n",
      "\u001b[1;32mc:\\Users\\Owis.Alsabbagh\\Desktop\\wichtig\\Inverses doppelpendel\\OwnCode\\JupiterSim.ipynb Cell 32\u001b[0m line \u001b[0;36m5\n\u001b[0;32m      <a href='vscode-notebook-cell:/c%3A/Users/Owis.Alsabbagh/Desktop/wichtig/Inverses%20doppelpendel/OwnCode/JupiterSim.ipynb#Y123sZmlsZQ%3D%3D?line=0'>1</a>\u001b[0m \u001b[39mdef\u001b[39;00m \u001b[39mdSdt\u001b[39m(S, t, g, mc, m1, m2, L1, L2):\n\u001b[0;32m      <a href='vscode-notebook-cell:/c%3A/Users/Owis.Alsabbagh/Desktop/wichtig/Inverses%20doppelpendel/OwnCode/JupiterSim.ipynb#Y123sZmlsZQ%3D%3D?line=1'>2</a>\u001b[0m      the1, z1, the2, z2, xc, zc \u001b[39m=\u001b[39m S \n\u001b[0;32m      <a href='vscode-notebook-cell:/c%3A/Users/Owis.Alsabbagh/Desktop/wichtig/Inverses%20doppelpendel/OwnCode/JupiterSim.ipynb#Y123sZmlsZQ%3D%3D?line=2'>3</a>\u001b[0m      \u001b[39mreturn\u001b[39;00m[\n\u001b[0;32m      <a href='vscode-notebook-cell:/c%3A/Users/Owis.Alsabbagh/Desktop/wichtig/Inverses%20doppelpendel/OwnCode/JupiterSim.ipynb#Y123sZmlsZQ%3D%3D?line=3'>4</a>\u001b[0m          dxcdt_f(zc),\n\u001b[1;32m----> <a href='vscode-notebook-cell:/c%3A/Users/Owis.Alsabbagh/Desktop/wichtig/Inverses%20doppelpendel/OwnCode/JupiterSim.ipynb#Y123sZmlsZQ%3D%3D?line=4'>5</a>\u001b[0m          dzcdt_f(t,  g, mc, m1, m2, L1, L2, xc, the1, the2, zc, z1, z2),\n\u001b[0;32m      <a href='vscode-notebook-cell:/c%3A/Users/Owis.Alsabbagh/Desktop/wichtig/Inverses%20doppelpendel/OwnCode/JupiterSim.ipynb#Y123sZmlsZQ%3D%3D?line=5'>6</a>\u001b[0m          dthe1dt_f(z1),\n\u001b[0;32m      <a href='vscode-notebook-cell:/c%3A/Users/Owis.Alsabbagh/Desktop/wichtig/Inverses%20doppelpendel/OwnCode/JupiterSim.ipynb#Y123sZmlsZQ%3D%3D?line=6'>7</a>\u001b[0m          dz1dt_f(t,  g, mc, m1, m2, L1, L2, xc, the1, the2, zc, z1, z2),\n\u001b[0;32m      <a href='vscode-notebook-cell:/c%3A/Users/Owis.Alsabbagh/Desktop/wichtig/Inverses%20doppelpendel/OwnCode/JupiterSim.ipynb#Y123sZmlsZQ%3D%3D?line=7'>8</a>\u001b[0m          dthe2dt_f(z2),\n\u001b[0;32m      <a href='vscode-notebook-cell:/c%3A/Users/Owis.Alsabbagh/Desktop/wichtig/Inverses%20doppelpendel/OwnCode/JupiterSim.ipynb#Y123sZmlsZQ%3D%3D?line=8'>9</a>\u001b[0m          dz2dt_f(t,  g, mc, m1, m2, L1, L2, xc, the1, the2, zc, z1, z2),\n\u001b[0;32m     <a href='vscode-notebook-cell:/c%3A/Users/Owis.Alsabbagh/Desktop/wichtig/Inverses%20doppelpendel/OwnCode/JupiterSim.ipynb#Y123sZmlsZQ%3D%3D?line=9'>10</a>\u001b[0m      ]\n",
      "File \u001b[1;32m<lambdifygenerated-110>:5\u001b[0m, in \u001b[0;36m_lambdifygenerated\u001b[1;34m(t, g, mc, m1, m2, L1, L2, _Dummy_679, _Dummy_681, _Dummy_680, _Dummy_676, _Dummy_678, _Dummy_677)\u001b[0m\n\u001b[0;32m      1\u001b[0m \u001b[39mdef\u001b[39;00m \u001b[39m_lambdifygenerated\u001b[39m(t, g, mc, m1, m2, L1, L2, _Dummy_679, _Dummy_681, _Dummy_680, _Dummy_676, _Dummy_678, _Dummy_677):\n\u001b[0;32m      2\u001b[0m     \u001b[39mreturn\u001b[39;00m (  \u001b[39m# Not supported in Python with SciPy and NumPy:\u001b[39;00m\n\u001b[0;32m      3\u001b[0m   \u001b[39m# Derivative\u001b[39;00m\n\u001b[0;32m      4\u001b[0m   \u001b[39m# Derivative\u001b[39;00m\n\u001b[1;32m----> 5\u001b[0m _Dummy_677\u001b[39m*\u001b[39m\u001b[39m*\u001b[39m\u001b[39m2\u001b[39m\u001b[39m*\u001b[39mL2\u001b[39m*\u001b[39mm2\u001b[39m*\u001b[39msin(_Dummy_680)\u001b[39m/\u001b[39m(\u001b[39m2\u001b[39m\u001b[39m*\u001b[39mm1 \u001b[39m+\u001b[39m \u001b[39m2\u001b[39m\u001b[39m*\u001b[39mm2 \u001b[39m+\u001b[39m mc) \u001b[39m+\u001b[39m _Dummy_678\u001b[39m*\u001b[39m\u001b[39m*\u001b[39m\u001b[39m2\u001b[39m\u001b[39m*\u001b[39mL1\u001b[39m*\u001b[39mm1\u001b[39m*\u001b[39msin(_Dummy_681)\u001b[39m/\u001b[39m(\u001b[39m2\u001b[39m\u001b[39m*\u001b[39mm1 \u001b[39m+\u001b[39m \u001b[39m2\u001b[39m\u001b[39m*\u001b[39mm2 \u001b[39m+\u001b[39m mc) \u001b[39m+\u001b[39m _Dummy_678\u001b[39m*\u001b[39m\u001b[39m*\u001b[39m\u001b[39m2\u001b[39m\u001b[39m*\u001b[39mL1\u001b[39m*\u001b[39mm2\u001b[39m*\u001b[39msin(_Dummy_681)\u001b[39m/\u001b[39m(\u001b[39m2\u001b[39m\u001b[39m*\u001b[39mm1 \u001b[39m+\u001b[39m \u001b[39m2\u001b[39m\u001b[39m*\u001b[39mm2 \u001b[39m+\u001b[39m mc) \u001b[39m-\u001b[39m L1\u001b[39m*\u001b[39mm1\u001b[39m*\u001b[39mcos(_Dummy_681)\u001b[39m*\u001b[39mDerivative(_Dummy_681, (t, \u001b[39m2\u001b[39m))\u001b[39m/\u001b[39m(\u001b[39m2\u001b[39m\u001b[39m*\u001b[39mm1 \u001b[39m+\u001b[39m \u001b[39m2\u001b[39m\u001b[39m*\u001b[39mm2 \u001b[39m+\u001b[39m mc) \u001b[39m-\u001b[39m L1\u001b[39m*\u001b[39mm2\u001b[39m*\u001b[39mcos(_Dummy_681)\u001b[39m*\u001b[39mDerivative(_Dummy_681, (t, \u001b[39m2\u001b[39m))\u001b[39m/\u001b[39m(\u001b[39m2\u001b[39m\u001b[39m*\u001b[39mm1 \u001b[39m+\u001b[39m \u001b[39m2\u001b[39m\u001b[39m*\u001b[39mm2 \u001b[39m+\u001b[39m mc) \u001b[39m-\u001b[39m L2\u001b[39m*\u001b[39mm2\u001b[39m*\u001b[39mcos(_Dummy_680)\u001b[39m*\u001b[39mDerivative(_Dummy_680, (t, \u001b[39m2\u001b[39m))\u001b[39m/\u001b[39m(\u001b[39m2\u001b[39m\u001b[39m*\u001b[39mm1 \u001b[39m+\u001b[39m \u001b[39m2\u001b[39m\u001b[39m*\u001b[39mm2 \u001b[39m+\u001b[39m mc))\n",
      "\u001b[1;31mNameError\u001b[0m: name 'Derivative' is not defined"
     ]
    }
   ],
   "source": [
    "t = np.linspace(0, 40, 1001)\n",
    "g = 9.81\n",
    "mc=1\n",
    "m1=0.4\n",
    "m2=0.2\n",
    "L1 = 2\n",
    "L2 = 1\n",
    "ans = odeint(dSdt, y0=[1, -3, 1,5, 0.225, 1], t=t, args=(g, mc, m1, m2, L1, L2))"
   ]
  },
  {
   "cell_type": "markdown",
   "metadata": {},
   "source": [
    "25 times per second (number of data points). This will be important for animating later on."
   ]
  },
  {
   "cell_type": "code",
   "execution_count": null,
   "metadata": {},
   "outputs": [],
   "source": [
    "ans.T"
   ]
  },
  {
   "cell_type": "markdown",
   "metadata": {},
   "source": [
    "Can obtain $\\theta_1(t)$ and $\\theta_2(t)$ from the answer"
   ]
  },
  {
   "cell_type": "code",
   "execution_count": null,
   "metadata": {},
   "outputs": [],
   "source": [
    "the1 = ans.T[0]\n",
    "the2 = ans.T[2]"
   ]
  },
  {
   "cell_type": "code",
   "execution_count": null,
   "metadata": {},
   "outputs": [],
   "source": [
    "plt.plot(t, the2)"
   ]
  },
  {
   "cell_type": "markdown",
   "metadata": {},
   "source": [
    "Here's a function that takes in $\\theta_1$ and $\\theta_2$ and returns the location (x,y) of the two masses."
   ]
  },
  {
   "cell_type": "code",
   "execution_count": null,
   "metadata": {},
   "outputs": [],
   "source": [
    "def get_x1y1x2y2(t, the1, the2, L1, L2):\n",
    "    return (L1*np.sin(the1),\n",
    "            -L1*np.cos(the1),\n",
    "            L1*np.sin(the1) + L2*np.sin(the2),\n",
    "            -L1*np.cos(the1) - L2*np.cos(the2))\n",
    "\n",
    "x1, y1, x2, y2 = get_x1y1x2y2(t, ans.T[0], ans.T[2], L1, L2)"
   ]
  },
  {
   "cell_type": "markdown",
   "metadata": {},
   "source": [
    "Then we can make an animation"
   ]
  },
  {
   "cell_type": "code",
   "execution_count": null,
   "metadata": {},
   "outputs": [],
   "source": [
    "def animate(i):\n",
    "    ln1.set_data([0, x1[i], x2[i]], [0, y1[i], y2[i]])\n",
    "    \n",
    "fig, ax = plt.subplots(1,1, figsize=(8,8))\n",
    "ax.set_facecolor('k')\n",
    "ax.get_xaxis().set_ticks([])    # enable this to hide x axis ticks\n",
    "ax.get_yaxis().set_ticks([])    # enable this to hide y axis ticks\n",
    "ln1, = plt.plot([], [], 'ro--', lw=3, markersize=8)\n",
    "ax.set_ylim(-4,4)\n",
    "ax.set_xlim(-4,4)\n",
    "ani = animation.FuncAnimation(fig, animate, frames=1000, interval=50)\n",
    "ani.save('pen.gif',writer='pillow',fps=25)"
   ]
  }
 ],
 "metadata": {
  "kernelspec": {
   "display_name": "Python 3 (ipykernel)",
   "language": "python",
   "name": "python3"
  },
  "language_info": {
   "codemirror_mode": {
    "name": "ipython",
    "version": 3
   },
   "file_extension": ".py",
   "mimetype": "text/x-python",
   "name": "python",
   "nbconvert_exporter": "python",
   "pygments_lexer": "ipython3",
   "version": "3.11.6"
  }
 },
 "nbformat": 4,
 "nbformat_minor": 4
}
